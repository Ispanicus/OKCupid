{
 "cells": [
  {
   "cell_type": "code",
   "execution_count": 5,
   "metadata": {},
   "outputs": [],
   "source": [
    "import pandas as pd\n",
    "import matplotlib.pyplot as plt\n",
    "import seaborn as sns\n",
    "import dtale\n",
    "#pip pip install --upgrade dtale"
   ]
  },
  {
   "cell_type": "code",
   "execution_count": 6,
   "metadata": {},
   "outputs": [
    {
     "name": "stderr",
     "output_type": "stream",
     "text": [
      "/home/ronsholt/anaconda3/lib/python3.7/site-packages/IPython/core/interactiveshell.py:3057: DtypeWarning: Columns (12) have mixed types. Specify dtype option on import or set low_memory=False.\n",
      "  interactivity=interactivity, compiler=compiler, result=result)\n"
     ]
    }
   ],
   "source": [
    "data = pd.read_csv('cleanerstill.csv', sep=\";\")"
   ]
  },
  {
   "cell_type": "code",
   "execution_count": 7,
   "metadata": {},
   "outputs": [],
   "source": [
    "d = dtale.show(data)"
   ]
  },
  {
   "cell_type": "code",
   "execution_count": 9,
   "metadata": {},
   "outputs": [
    {
     "name": "stdout",
     "output_type": "stream",
     "text": [
      "Executing shutdown...\n"
     ]
    },
    {
     "name": "stderr",
     "output_type": "stream",
     "text": [
      "2020-02-27 10:59:23,706 - INFO     - Executing shutdown...\n"
     ]
    }
   ],
   "source": [
    "d.kill()"
   ]
  },
  {
   "cell_type": "code",
   "execution_count": 122,
   "metadata": {},
   "outputs": [
    {
     "data": {
      "text/plain": [
       "m    32311\n",
       "f    21638\n",
       "Name: sex, dtype: int64"
      ]
     },
     "execution_count": 122,
     "metadata": {},
     "output_type": "execute_result"
    }
   ],
   "source": [
    "new_data[\"sex\"].value_counts()"
   ]
  },
  {
   "cell_type": "code",
   "execution_count": 167,
   "metadata": {},
   "outputs": [
    {
     "data": {
      "text/plain": [
       "san francisco  california              27981\n",
       "oakland  california                     6457\n",
       "berkeley  california                    3745\n",
       "san mateo  california                   1204\n",
       "palo alto  california                    961\n",
       "alameda  california                      811\n",
       "hayward  california                      679\n",
       "san rafael  california                   669\n",
       "emeryville  california                   666\n",
       "redwood city  california                 627\n",
       "daly city  california                    621\n",
       "san leandro  california                  595\n",
       "walnut creek  california                 577\n",
       "vallejo  california                      506\n",
       "menlo park  california                   417\n",
       "richmond  california                     382\n",
       "south san francisco  california          381\n",
       "mountain view  california                344\n",
       "novato  california                       336\n",
       "burlingame  california                   325\n",
       "castro valley  california                312\n",
       "pleasant hill  california                312\n",
       "stanford  california                     306\n",
       "martinez  california                     295\n",
       "pacifica  california                     292\n",
       "mill valley  california                  290\n",
       "el cerrito  california                   288\n",
       "san bruno  california                    266\n",
       "san pablo  california                    230\n",
       "belmont  california                      222\n",
       "                                       ...  \n",
       "bellingham  washington                     1\n",
       "san quentin  california                    1\n",
       "islip terrace  new york                    1\n",
       "murfreesboro  tennessee                    1\n",
       "south orange  new jersey                   1\n",
       "grand rapids  michigan                     1\n",
       "pasadena  california                       1\n",
       "honolulu  hawaii                           1\n",
       "campbell  california                       1\n",
       "petaluma  california                       1\n",
       "long beach  california                     1\n",
       "utica  michigan                            1\n",
       "waterford  california                      1\n",
       "jackson  mississippi                       1\n",
       "south lake tahoe  california               1\n",
       "seattle  washington                        1\n",
       "canyon  california                         1\n",
       "ozone park  new york                       1\n",
       "milpitas  california                       1\n",
       "taunton  massachusetts                     1\n",
       "boise  idaho                               1\n",
       "concord  california                        1\n",
       "sacramento  california                     1\n",
       "san antonio  texas                         1\n",
       "miami  florida                             1\n",
       "las vegas  nevada                          1\n",
       "vancouver  british columbia  canada        1\n",
       "marin city  california                     1\n",
       "san luis obispo  california                1\n",
       "lake orion  michigan                       1\n",
       "Name: location, Length: 193, dtype: int64"
      ]
     },
     "execution_count": 167,
     "metadata": {},
     "output_type": "execute_result"
    }
   ],
   "source": [
    "new_data[\"location\"].value_counts()"
   ]
  },
  {
   "cell_type": "markdown",
   "metadata": {},
   "source": [
    "## Visualization of classes distribution"
   ]
  },
  {
   "cell_type": "markdown",
   "metadata": {},
   "source": [
    "### Gender distribution"
   ]
  },
  {
   "cell_type": "code",
   "execution_count": 66,
   "metadata": {},
   "outputs": [
    {
     "data": {
      "text/plain": [
       "m    35826\n",
       "f    24117\n",
       "Name: sex, dtype: int64"
      ]
     },
     "execution_count": 66,
     "metadata": {},
     "output_type": "execute_result"
    }
   ],
   "source": [
    "data[\"sex\"].value_counts()"
   ]
  },
  {
   "cell_type": "code",
   "execution_count": 59,
   "metadata": {},
   "outputs": [
    {
     "data": {
      "image/png": "[encoded data removed]",
      "text/plain": [
       "<Figure size 432x288 with 1 Axes>"
      ]
     },
     "metadata": {
      "needs_background": "light"
     },
     "output_type": "display_data"
    }
   ],
   "source": [
    "gender_dist = sns.barplot(x=data.sex.value_counts().index, y=data.sex.value_counts())\n",
    "plt.title(\"Gender distribution\")\n",
    "\n",
    "plt.show();"
   ]
  },
  {
   "cell_type": "markdown",
   "metadata": {},
   "source": [
    "### Status distribution"
   ]
  },
  {
   "cell_type": "code",
   "execution_count": 62,
   "metadata": {},
   "outputs": [
    {
     "data": {
      "text/plain": [
       "single            55695\n",
       "seeing someone     2064\n",
       "available          1864\n",
       "married             310\n",
       "unknown              10\n",
       "Name: status, dtype: int64"
      ]
     },
     "execution_count": 62,
     "metadata": {},
     "output_type": "execute_result"
    }
   ],
   "source": [
    "data[\"status\"].value_counts()"
   ]
  },
  {
   "cell_type": "code",
   "execution_count": 58,
   "metadata": {},
   "outputs": [
    {
     "data": {
      "image/png": "[encoded data removed]",
      "text/plain": [
       "<Figure size 432x288 with 1 Axes>"
      ]
     },
     "metadata": {
      "needs_background": "light"
     },
     "output_type": "display_data"
    }
   ],
   "source": [
    "status_dist = sns.barplot(x=data.status.value_counts().index, y=data.status.value_counts())\n",
    "plt.title(\"Status distribution\")\n",
    "\n",
    "\n",
    "plt.show();"
   ]
  },
  {
   "cell_type": "markdown",
   "metadata": {},
   "source": [
    "### Diet distribution"
   ]
  },
  {
   "cell_type": "code",
   "execution_count": 61,
   "metadata": {},
   "outputs": [
    {
     "data": {
      "text/plain": [
       "                       24395\n",
       "mostly anything        16583\n",
       "anything                6183\n",
       "strictly anything       5113\n",
       "mostly vegetarian       3444\n",
       "mostly other            1007\n",
       "strictly vegetarian      875\n",
       "vegetarian               667\n",
       "strictly other           452\n",
       "mostly vegan             338\n",
       "other                    331\n",
       "strictly vegan           228\n",
       "vegan                    136\n",
       "mostly kosher             86\n",
       "mostly halal              48\n",
       "strictly halal            18\n",
       "strictly kosher           18\n",
       "kosher                    11\n",
       "halal                     11\n",
       "Name: diet, dtype: int64"
      ]
     },
     "execution_count": 61,
     "metadata": {},
     "output_type": "execute_result"
    }
   ],
   "source": [
    "data[\"diet\"].value_counts()[:19]"
   ]
  },
  {
   "cell_type": "code",
   "execution_count": 57,
   "metadata": {},
   "outputs": [
    {
     "data": {
      "image/png": "[encoded data removed]",
      "text/plain": [
       "<Figure size 432x288 with 1 Axes>"
      ]
     },
     "metadata": {
      "needs_background": "light"
     },
     "output_type": "display_data"
    }
   ],
   "source": [
    "diet_dist = sns.barplot(x=data.diet.value_counts().index[:19], y=data.diet.value_counts()[:19])\n",
    "\n",
    "#design\n",
    "plt.title(\"Diet distribution\")\n",
    "#diet_dist.set_xticklabels(diet_dist.get_xticklabels(), rotation=30)\n",
    "\n",
    "plt.show();"
   ]
  },
  {
   "cell_type": "markdown",
   "metadata": {},
   "source": [
    "### Education distribution"
   ]
  },
  {
   "cell_type": "code",
   "execution_count": 65,
   "metadata": {},
   "outputs": [
    {
     "data": {
      "text/plain": [
       "graduated from college university    23959\n",
       "graduated from masters program        8960\n",
       "                                      6628\n",
       "working on college university         5712\n",
       "working on masters program            1683\n",
       "graduated from two year college       1531\n",
       "graduated from high school            1428\n",
       "graduated from ph d program           1272\n",
       "graduated from law school             1122\n",
       "working on two year college           1074\n",
       "dropped out of college university      994\n",
       "working on ph d program                983\n",
       "college university                     801\n",
       "graduated from space camp              657\n",
       "dropped out of space camp              523\n",
       "graduated from med school              446\n",
       "working on space camp                  445\n",
       "working on law school                  269\n",
       "two year college                       222\n",
       "working on med school                  212\n",
       "dropped out of two year college        191\n",
       "dropped out of masters program         140\n",
       "masters program                        136\n",
       "dropped out of ph d program            127\n",
       "dropped out of high school             102\n",
       "high school                             96\n",
       "working on high school                  87\n",
       "space camp                              58\n",
       "ph d program                            26\n",
       "law school                              19\n",
       "dropped out of law school               18\n",
       "dropped out of med school               12\n",
       "med school                              11\n",
       "68                                       1\n",
       "Name: education, dtype: int64"
      ]
     },
     "execution_count": 65,
     "metadata": {},
     "output_type": "execute_result"
    }
   ],
   "source": [
    "data[\"education\"].value_counts()"
   ]
  },
  {
   "cell_type": "markdown",
   "metadata": {},
   "source": [
    "### Job distribution"
   ]
  },
  {
   "cell_type": "code",
   "execution_count": 63,
   "metadata": {},
   "outputs": [
    {
     "data": {
      "text/plain": [
       "                                     8198\n",
       "other                                7588\n",
       "student                              4882\n",
       "science   tech   engineering         4848\n",
       "computer   hardware   software       4709\n",
       "artistic   musical   writer          4439\n",
       "sales   marketing   biz dev          4391\n",
       "medicine   health                    3679\n",
       "education   academia                 3513\n",
       "executive   management               2373\n",
       "banking   financial   real estate    2266\n",
       "entertainment   media                2250\n",
       "law   legal services                 1381\n",
       "hospitality   travel                 1364\n",
       "construction   craftsmanship         1021\n",
       "clerical   administrative             805\n",
       "political   government                707\n",
       "rather not say                        436\n",
       "transportation                        366\n",
       "unemployed                            273\n",
       "retired                               250\n",
       "military                              204\n",
       "m                                       1\n",
       "Name: job, dtype: int64"
      ]
     },
     "execution_count": 63,
     "metadata": {},
     "output_type": "execute_result"
    }
   ],
   "source": [
    "data[\"job\"].value_counts()"
   ]
  },
  {
   "cell_type": "code",
   "execution_count": 83,
   "metadata": {},
   "outputs": [
    {
     "data": {
      "image/png": "[encoded data removed]",
      "text/plain": [
       "<Figure size 432x288 with 1 Axes>"
      ]
     },
     "metadata": {
      "needs_background": "light"
     },
     "output_type": "display_data"
    }
   ],
   "source": [
    "edu_dist = sns.barplot(x=data.education.value_counts().index, y=data.education.value_counts())\n",
    "plt.title(\"Education distribution\");"
   ]
  },
  {
   "cell_type": "markdown",
   "metadata": {},
   "source": [
    "### Drugs distribution"
   ]
  },
  {
   "cell_type": "code",
   "execution_count": 73,
   "metadata": {},
   "outputs": [
    {
     "data": {
      "text/plain": [
       "never        37722\n",
       "             14080\n",
       "sometimes     7732\n",
       "often          410\n",
       "white            1\n",
       "Name: drugs, dtype: int64"
      ]
     },
     "execution_count": 73,
     "metadata": {},
     "output_type": "execute_result"
    }
   ],
   "source": [
    "data[\"drugs\"].value_counts()"
   ]
  },
  {
   "cell_type": "code",
   "execution_count": 79,
   "metadata": {},
   "outputs": [
    {
     "data": {
      "image/png": "[encoded data removed]",
      "text/plain": [
       "<Figure size 432x288 with 1 Axes>"
      ]
     },
     "metadata": {
      "needs_background": "light"
     },
     "output_type": "display_data"
    }
   ],
   "source": [
    "drugs_dist = sns.barplot(x=data.drugs.value_counts().index, y=data.drugs.value_counts())"
   ]
  },
  {
   "cell_type": "markdown",
   "metadata": {},
   "source": [
    "### Orientation distribution"
   ]
  },
  {
   "cell_type": "code",
   "execution_count": 71,
   "metadata": {},
   "outputs": [
    {
     "data": {
      "text/plain": [
       "straight    51604\n",
       "gay          5573\n",
       "bisexual     2767\n",
       "Name: orientation, dtype: int64"
      ]
     },
     "execution_count": 71,
     "metadata": {},
     "output_type": "execute_result"
    }
   ],
   "source": [
    "data[\"orientation\"].value_counts()"
   ]
  },
  {
   "cell_type": "code",
   "execution_count": 78,
   "metadata": {},
   "outputs": [
    {
     "data": {
      "image/png": "[encoded data removed]",
      "text/plain": [
       "<Figure size 432x288 with 1 Axes>"
      ]
     },
     "metadata": {
      "needs_background": "light"
     },
     "output_type": "display_data"
    }
   ],
   "source": [
    "orientation_dist = sns.barplot(x=data.orientation.value_counts().index, y=data.orientation.value_counts())\n",
    "plt.title(\"Orientation distribution\");"
   ]
  },
  {
   "cell_type": "markdown",
   "metadata": {},
   "source": [
    "### Drinks distribution"
   ]
  },
  {
   "cell_type": "code",
   "execution_count": 77,
   "metadata": {},
   "outputs": [
    {
     "data": {
      "text/plain": [
       "socially       41779\n",
       "rarely          5956\n",
       "often           5164\n",
       "not at all      3267\n",
       "                2985\n",
       "very often       471\n",
       "desperately      322\n",
       "Name: drinks, dtype: int64"
      ]
     },
     "execution_count": 77,
     "metadata": {},
     "output_type": "execute_result"
    }
   ],
   "source": [
    "data[\"drinks\"].value_counts()"
   ]
  },
  {
   "cell_type": "code",
   "execution_count": 85,
   "metadata": {},
   "outputs": [
    {
     "data": {
      "image/png": "[encoded data removed]",
      "text/plain": [
       "<Figure size 432x288 with 1 Axes>"
      ]
     },
     "metadata": {
      "needs_background": "light"
     },
     "output_type": "display_data"
    }
   ],
   "source": [
    "drinks_dist = sns.barplot(x=data.drinks.value_counts().index, y=data.drinks.value_counts())\n",
    "plt.title(\"Drinks distribution\");"
   ]
  },
  {
   "cell_type": "markdown",
   "metadata": {},
   "source": [
    "### Smokes distribution"
   ]
  },
  {
   "cell_type": "code",
   "execution_count": 87,
   "metadata": {},
   "outputs": [
    {
     "data": {
      "text/plain": [
       "no                43893\n",
       "                   5512\n",
       "sometimes          3787\n",
       "when drinking      3040\n",
       "yes                2231\n",
       "trying to quit     1480\n",
       "Name: smokes, dtype: int64"
      ]
     },
     "execution_count": 87,
     "metadata": {},
     "output_type": "execute_result"
    }
   ],
   "source": [
    "data[\"smokes\"].value_counts()"
   ]
  },
  {
   "cell_type": "code",
   "execution_count": 86,
   "metadata": {},
   "outputs": [
    {
     "data": {
      "image/png": "[encoded data removed]",
      "text/plain": [
       "<Figure size 432x288 with 1 Axes>"
      ]
     },
     "metadata": {
      "needs_background": "light"
     },
     "output_type": "display_data"
    }
   ],
   "source": [
    "smokes_dist = sns.barplot(x=data.smokes.value_counts().index, y=data.smokes.value_counts())\n",
    "plt.title(\"Smokes distribution\");"
   ]
  },
  {
   "cell_type": "markdown",
   "metadata": {},
   "source": [
    "### Age distribution"
   ]
  },
  {
   "cell_type": "code",
   "execution_count": 131,
   "metadata": {},
   "outputs": [],
   "source": [
    "b_30_data = 0\n",
    "a_30_data = 0\n",
    "for age in data[\"age\"]:\n",
    "    if len(age) > 4:\n",
    "        continue\n",
    "    elif int(age) <= 30:\n",
    "        b_30 += 1\n",
    "    else:\n",
    "        a_30 += 1"
   ]
  },
  {
   "cell_type": "code",
   "execution_count": 132,
   "metadata": {},
   "outputs": [
    {
     "name": "stdout",
     "output_type": "stream",
     "text": [
      "0\n",
      "0\n"
     ]
    }
   ],
   "source": [
    "print(b_30_data)\n",
    "print(a_30_data)"
   ]
  },
  {
   "cell_type": "code",
   "execution_count": 162,
   "metadata": {},
   "outputs": [],
   "source": [
    "b_28 = 0\n",
    "b_28_38 = 0\n",
    "a_38 = 0\n",
    "for age in new_data[\"age\"]:\n",
    "    if len(age) > 4:\n",
    "        continue\n",
    "    elif int(age) <= 26:\n",
    "        b_28 += 1\n",
    "    elif 26 < int(age) <= 36:\n",
    "        b_28_38 += 1\n",
    "    else:\n",
    "        a_38 += 1"
   ]
  },
  {
   "cell_type": "code",
   "execution_count": 163,
   "metadata": {},
   "outputs": [
    {
     "name": "stdout",
     "output_type": "stream",
     "text": [
      "16241\n",
      "23850\n",
      "13859\n"
     ]
    }
   ],
   "source": [
    "print(b_28)\n",
    "print(b_28_38)\n",
    "print(a_38)"
   ]
  },
  {
   "cell_type": "code",
   "execution_count": 127,
   "metadata": {},
   "outputs": [],
   "source": [
    "age_group = [\"Below 30\", \"Above 30\"]\n",
    "age_group_count = [b_30, a_30]"
   ]
  },
  {
   "cell_type": "code",
   "execution_count": 128,
   "metadata": {},
   "outputs": [
    {
     "data": {
      "image/png": "[encoded data removed]",
      "text/plain": [
       "<Figure size 432x288 with 1 Axes>"
      ]
     },
     "metadata": {
      "needs_background": "light"
     },
     "output_type": "display_data"
    }
   ],
   "source": [
    "age_dist = sns.barplot(x=age_group, y=age_group_count)\n",
    "plt.title(\"Age group distribution\");"
   ]
  },
  {
   "cell_type": "code",
   "execution_count": 108,
   "metadata": {},
   "outputs": [],
   "source": [
    "sex_m_recall = [0.420, 0.592, 0.815]\n",
    "sex_m_precision = [0.514, 0.508, 0.504]\n",
    "sex_f_recall = [0.607, 0.420, 0.186]\n",
    "sex_f_precision = [0.513, 0.504, 0.497]"
   ]
  }
 ],
 "metadata": {
  "kernelspec": {
   "display_name": "Python 3",
   "language": "python",
   "name": "python3"
  },
  "language_info": {
   "codemirror_mode": {
    "name": "ipython",
    "version": 3
   },
   "file_extension": ".py",
   "mimetype": "text/x-python",
   "name": "python",
   "nbconvert_exporter": "python",
   "pygments_lexer": "ipython3",
   "version": "3.7.3"
  }
 },
 "nbformat": 4,
 "nbformat_minor": 4
}
