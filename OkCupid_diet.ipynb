{
 "cells": [
  {
   "cell_type": "code",
   "execution_count": 3,
   "metadata": {},
   "outputs": [],
   "source": [
    "import nltk\n",
    "import pandas as pd\n",
    "import io\n",
    "import re\n",
    "from random import shuffle\n",
    "from string import punctuation\n",
    "from nltk.corpus import stopwords\n",
    "from nltk.stem.porter import PorterStemmer\n",
    "#nltk.download('punkt')\n",
    "#nltk.download('stopwords')\n",
    "#nltk.download('PorterStemmer')"
   ]
  },
  {
   "cell_type": "code",
   "execution_count": 5,
   "metadata": {},
   "outputs": [
    {
     "name": "stderr",
     "output_type": "stream",
     "text": [
      "/home/ronsholt/anaconda3/lib/python3.7/site-packages/IPython/core/interactiveshell.py:3057: DtypeWarning: Columns (12) have mixed types. Specify dtype option on import or set low_memory=False.\n",
      "  interactivity=interactivity, compiler=compiler, result=result)\n"
     ]
    }
   ],
   "source": [
    "data = pd.read_csv('cleanerstill.csv', sep=\";\")"
   ]
  },
  {
   "cell_type": "code",
   "execution_count": 6,
   "metadata": {},
   "outputs": [
    {
     "data": {
      "text/plain": [
       "                       24395\n",
       "mostly anything        16585\n",
       "anything                6183\n",
       "strictly anything       5113\n",
       "mostly vegetarian       3444\n",
       "mostly other            1007\n",
       "strictly vegetarian      875\n",
       "vegetarian               667\n",
       "strictly other           452\n",
       "mostly vegan             338\n",
       "other                    331\n",
       "strictly vegan           228\n",
       "vegan                    136\n",
       "mostly kosher             86\n",
       "mostly halal              48\n",
       "strictly kosher           18\n",
       "strictly halal            18\n",
       "kosher                    11\n",
       "halal                     11\n",
       "Name: diet, dtype: int64"
      ]
     },
     "execution_count": 6,
     "metadata": {},
     "output_type": "execute_result"
    }
   ],
   "source": [
    "data['diet'].value_counts()"
   ]
  },
  {
   "cell_type": "code",
   "execution_count": 4,
   "metadata": {},
   "outputs": [],
   "source": [
    "essay4 = [essay for essay in data[\"essay4\"][:20000]]\n",
    "words = []\n",
    "all_words = []\n",
    "essay_list = []\n",
    "essay_lister = []\n",
    "stop_words = stopwords.words('english')\n",
    "porter = PorterStemmer()\n",
    "\n",
    "for i, essay in enumerate(essay4):\n",
    "    tmp = []\n",
    "    tmp_list = []\n",
    "    if type(essay) != float:\n",
    "        splt = essay.split()\n",
    "        words.extend(splt)\n",
    "        tmp.extend([porter.stem(w) for w in splt if not w in stop_words])\n",
    "        for w in tmp:\n",
    "            if \"'\" in w:\n",
    "                tmp_list.extend(w.split(\"'\"))\n",
    "            else:\n",
    "                tmp_list.append(w)\n",
    "        essay_list.append((data[\"diet\"][i],[word for word in tmp_list if word]))\n",
    "\n",
    "for word in words:\n",
    "    if \"'\" in word:\n",
    "        all_words.extend([w for w in word.split(\"'\") if not w in stop_words])\n",
    "    else:\n",
    "        all_words.append(word)"
   ]
  },
  {
   "cell_type": "code",
   "execution_count": 5,
   "metadata": {},
   "outputs": [],
   "source": [
    "clean_words = [w for w in all_words if not w in stop_words]\n",
    "stemmed_words = [porter.stem(word) for word in clean_words]\n",
    "freq_words = nltk.FreqDist(w for w in stemmed_words)\n",
    "word_features = list(freq_words)[:2000]\n",
    "#print(word_features)"
   ]
  },
  {
   "cell_type": "code",
   "execution_count": 6,
   "metadata": {},
   "outputs": [],
   "source": [
    "def document_features(document):\n",
    "    document_words = set(document)\n",
    "    features = {}\n",
    "    for word in word_features:\n",
    "        features['contains({})'.format(word)] = (word in document_words)\n",
    "    return features\n",
    "\n",
    "featuresets = [(document_features(t), f) for (f, t) in essay_list if t]\n",
    "shuffle(featuresets)\n",
    "train_set, test_set = featuresets[100:], featuresets[:100]\n",
    "classifier = nltk.NaiveBayesClassifier.train(train_set)"
   ]
  },
  {
   "cell_type": "code",
   "execution_count": 7,
   "metadata": {},
   "outputs": [
    {
     "name": "stdout",
     "output_type": "stream",
     "text": [
      "0.33\n"
     ]
    }
   ],
   "source": [
    "print(nltk.classify.accuracy(classifier, test_set))"
   ]
  },
  {
   "cell_type": "code",
   "execution_count": 8,
   "metadata": {},
   "outputs": [
    {
     "name": "stdout",
     "output_type": "stream",
     "text": [
      "Most Informative Features\n",
      "           contains(luc) = True            halal : mostly =    560.3 : 1.0\n",
      "         contains(prune) = True           mostly : mostly =    466.9 : 1.0\n",
      "           contains(pun) = True            halal :        =    421.0 : 1.0\n",
      "         contains(dalla) = True           strict : mostly =    350.2 : 1.0\n",
      "         contains(satan) = True            halal : anythi =    341.2 : 1.0\n",
      "          contains(cube) = True            halal : anythi =    341.2 : 1.0\n",
      "          contains(topo) = True           strict :        =    338.3 : 1.0\n",
      "        contains(access) = True           strict :        =    215.3 : 1.0\n",
      "       contains(darjeel) = True            halal : anythi =    204.7 : 1.0\n",
      "        contains(hittin) = True            halal : mostly =    201.4 : 1.0\n"
     ]
    }
   ],
   "source": [
    "classifier.show_most_informative_features(10)"
   ]
  },
  {
   "cell_type": "code",
   "execution_count": null,
   "metadata": {},
   "outputs": [],
   "source": []
  }
 ],
 "metadata": {
  "kernelspec": {
   "display_name": "Python 3",
   "language": "python",
   "name": "python3"
  },
  "language_info": {
   "codemirror_mode": {
    "name": "ipython",
    "version": 3
   },
   "file_extension": ".py",
   "mimetype": "text/x-python",
   "name": "python",
   "nbconvert_exporter": "python",
   "pygments_lexer": "ipython3",
   "version": "3.7.3"
  }
 },
 "nbformat": 4,
 "nbformat_minor": 4
}
