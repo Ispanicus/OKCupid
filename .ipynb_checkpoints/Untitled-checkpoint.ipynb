{
 "cells": [
  {
   "cell_type": "code",
   "execution_count": 1,
   "metadata": {},
   "outputs": [],
   "source": [
    "import nltk\n",
    "import pandas as pd\n",
    "import io\n",
    "import re\n",
    "from string import punctuation\n",
    "#nltk.download('punkt')"
   ]
  },
  {
   "cell_type": "code",
   "execution_count": 48,
   "metadata": {},
   "outputs": [],
   "source": [
    "data = pd.read_csv('cleandata2.csv')"
   ]
  },
  {
   "cell_type": "code",
   "execution_count": 2,
   "metadata": {},
   "outputs": [
    {
     "name": "stdout",
     "output_type": "stream",
     "text": [
      "22;a little extra;strictly anything;socially;never;working on college/university;\"about me:\n",
      "\n"
     ]
    }
   ],
   "source": [
    "sentences = []\n",
    "with open(\"cleandata2.csv\") as file:\n",
    "    for line in file.readlines()[1:2]:\n",
    "        print(line)\n",
    "        #sentences.append(nltk.sent_tokenize(line))\n",
    "#print(sentences)"
   ]
  },
  {
   "cell_type": "code",
   "execution_count": 49,
   "metadata": {},
   "outputs": [],
   "source": [
    "data.replace(to_replace=r'<.*>', value=' ', regex=True, inplace=True)\n",
    "data.replace(to_replace=r'\\n', value=\" \", regex=True, inplace=True)\n",
    "data[data.columns.difference(['last_online'])].replace(to_replace=r'\\d+', value='', regex=True, inplace=True)\n",
    "data.replace(to_replace=r'&rsquo;', value=\"'\", regex=True, inplace=True)"
   ]
  },
  {
   "cell_type": "code",
   "execution_count": 50,
   "metadata": {},
   "outputs": [
    {
     "name": "stdout",
     "output_type": "stream",
     "text": [
      "<class 'list'>\n",
      "books: \n",
      "absurdistan, the republic, of mice and men (only book that made me\n",
      "want to cry), catcher in the rye, the prince. \n",
      " \n",
      "movies: \n",
      "gladiator, operation valkyrie, the producers, down periscope. \n",
      " \n",
      "shows: \n",
      "the borgia, arrested development, game of thrones, monty\n",
      "python \n",
      " \n",
      "music: \n",
      "aesop rock, hail mary mallon, george thorogood and the delaware\n",
      "destroyers, felt \n",
      " \n",
      "food: \n",
      "i'm down for anything.\n"
     ]
    }
   ],
   "source": [
    "essay4 = [essay for essay in data[\"essay4\"]]\n",
    "\n",
    "for essay in essay4:\n",
    "    if type(essay) != float:\n",
    "        essay = nltk.sent_tokenize(essay)\n",
    "    \n",
    "print(essay4[0])"
   ]
  },
  {
   "cell_type": "code",
   "execution_count": 53,
   "metadata": {},
   "outputs": [
    {
     "name": "stdout",
     "output_type": "stream",
     "text": [
      "[\"books: \\nabsurdistan, the republic, of mice and men (only book that made me\\nwant to cry), catcher in the rye, the prince. \\n \\nmovies: \\ngladiator, operation valkyrie, the producers, down periscope. \\n \\nshows: \\nthe borgia, arrested development, game of thrones, monty\\npython \\n \\nmusic: \\naesop rock, hail mary mallon, george thorogood and the delaware\\ndestroyers, felt \\n \\nfood: \\ni'm down for anything.\", \"i am die hard christopher moore fan. i don't really watch a lot of\\ntv unless there is humor involved. i am kind of stuck on 90's\\nalternative music. i am pretty much a fan of everything though... i\\ndo need to draw a line at most types of electronica.\", 'okay this is where the cultural matrix gets so specific, it\\'s like\\nbeing in the crosshairs. \\n \\nfor what it\\'s worth, i find myself reading more non-fiction than\\nfiction. it\\'s usually some kind of philosophy, art, or science text\\nby silly authors such as ranciere, de certeau, bataille,\\nbaudrillard, butler, stein, arendt, nietzche, zizek, etc. i\\'ll\\noften throw in some weird new age or pop-psychology book in the mix\\nas well. as for fiction, i enjoy what little i\\'ve read of eco,\\nperec, wallace, bolao, dick, vonnegut, atwood, delilo, etc. when i\\nwas young, i was a rabid asimov reader. \\n \\ndirectors i find myself drawn to are makavejev, kuchar, jodorowsky,\\nherzog, hara, klein, waters, verhoeven, ackerman, hitchcock, lang,\\ngorin, goddard, miike, ohbayashi, tarkovsky, sokurov, warhol, etc.\\nbut i also like a good amount of \"trashy\" stuff. too much to\\nname. \\n \\ni definitely enjoy the character development that happens in long\\nform episodic television over the course of 10-100 episodes, which\\na 1-2hr movie usually can\\'t compete with. some of my recent tv\\nfavorites are: breaking bad, the wire, dexter, true blood, the\\nprisoner, lost, fringe. \\n \\na smattered sampling of the vast field of music i like and deejay:\\nart ensemble, sun ra, evan parker, lil wayne, dj funk, mr. fingers,\\nmaurizio, rob hood, dan bell, james blake, nonesuch recordings,\\nomar souleyman, ethiopiques, fela kuti, john cage, meredith monk,\\nrobert ashley, terry riley, yoko ono, merzbow, tom tom club, jit,\\njuke, bounce, hyphy, snap, crunk, b\\'more, kuduro, pop, noise, jazz,\\ntechno, house, acid, new/no wave, (post)punk, etc. \\n \\na few of the famous art/dance/theater folk that might locate my\\nsensibility: andy warhol, bruce nauman, yayoi kusama, louise\\nbourgeois, tino sehgal, george kuchar, michel duchamp, marina\\nabramovic, gelatin, carolee schneeman, gustav metzger, mike kelly,\\nmike smith, andrea fraser, gordon matta-clark, jerzy grotowski,\\nsamuel beckett, antonin artaud, tadeusz kantor, anna halperin,\\nmerce cunningham, etc. i\\'m clearly leaving out a younger generation\\nof contemporary artists, many of whom are friends. \\n \\nlocal food regulars: sushi zone, chow, ppq, pagolac, lers ros,\\nburma superstar, minako, shalimar, delfina pizza, rosamunde,\\narinells, suppenkuche, cha-ya, blue plate, golden era, etc.', 'bataille, celine, beckett. . . \\nlynch, jarmusch, r.w. fassbender. . . \\ntwin peaks &amp; fishing w/ john \\njoy division, throbbing gristle, cabaret voltaire. . . \\nvegetarian pho and coffee', 'music: bands, rappers, musicians \\nat the moment: thee oh sees. \\nforever: wu-tang \\nbooks: artbooks for days \\naudiobooks: my collection, thick (thanks audible) \\nshows: live ones \\nfood: with stellar friends whenever \\nmovies &gt; tv \\npodcast: radiolab, this american life, the moth, joe rogan, the\\nchamps', 'books: to kill a mockingbird, lord of the rings, 1984, the farseer\\ntrilogy. \\n \\nmusic: the beatles, frank sinatra, john mayer, jason mraz,\\ndeadmau5, andrew bayer, everything on anjunadeep records, bach,\\nsatie. \\n \\ntv shows: how i met your mother, scrubs, the west wing, breaking\\nbad. \\n \\nmovies: star wars, the godfather pt ii, 500 days of summer,\\nnapoleon dynamite, american beauty, lotr \\n \\nfood: thai, vietnamese, shanghai dumplings, pizza!', \"i like books. ones with pictures. reading them is great too. where\\ndo people find the time? i spend more time with other people not\\nreading. i collect books. they sit neatly on my bookshelves. \\n \\nmovies are great. especially on movie night. with brownies. \\n \\nmusic. i love (love) it all. unless it's country. \\n \\ni love food.\", 'i like: alphabetized lists, aquariums, autobiographies, beer on\\ntap, ben folds, biking, brunch, citrus, cocktails, color, comfort\\nfood, craft projects, dancing, design, diy, essays, fabric stores,\\nfield trips, flea markets, foreign films, glee, good, hammond\\norgans, helping lost tourists, indie rock, ice cream, languages,\\nlectures, letterpress, libraries, literary fiction, live shows, mad\\nmen, martha stewart living, memoir, mix tapes, non-fiction, npr,\\nplants, puns, sewing, short stories, siestas, singer-songwriters,\\nspicy food, stationery, storytelling, sufjan stevens, talking to\\nstrangers, tea, tegan and sara, the office, 30 rock, travel,\\nquilts, quirky movies, wes anderson, wine, writing, yoga.', 'i am always willing to try new foods and am not too picky. i do\\nhowever have an extremely low tolerance to spicy food, i\\'m working\\non it tho... i\\'ve already conquered pouring chipotle hot sauce all\\nover my burritos. guess i still have a long ways to go. one of my\\nfavorite spots in marin is sol food-- simply delicious puerto rican\\nfood. \\n \\nlove to laugh so i like to watch a fair amount of comedies-\\nromantic, dark or otherwise. princess bride, pixar!, fear and\\nloathing, caddyshack, thomas crown affair, the birdcage (\"chewing\\ngum helps me think\"... \"sweetie, you\\'re wasting your gum!\"), the\\nbig lebowski, star wars (don\\'t judge) \\n \\ni like historical fiction, murder mysteries, fantasy,\\nutopian/dystopia, and, uh, the occasional romance book. just\\nstarted the historian and trying to decide whether or not to read\\nthe hunger games... already saw battle royale and it was pretty\\ncool, so i\\'d imagine that collin\\'s version she ripped off has got\\nto be fun to read. \\n \\ncan\\'t get enough music. like it, love it, want some more of it.\\nlove to dance to it and to many peoples dismay, sing to it. pretty\\nopen to any kind, even country.\\nhttp://www.youtube.com/watch?v=dghbozbsv18&amp;feature=bfa&amp;list=pl01a90d209abe1ed3&amp;lf=plpp_video', \"i like some tv. i love summer heights high and angry boys. and i\\nlove fringe. \\n \\ni'm reading stiff after finishing elliott smith and the big nothing\\n(loved it). i like biographies. \\n \\ni love music. it would be impossible to list everything i like\\nbecause the list grows exponentially. i like george harrison or the\\nclash. i like flight of the conchord's, old radiohead and elliott\\nsmith. djali zwan, x, the knitters, the kinks, john lennon, floyd,\\nnina simone, the smiths, seu jorge, the sex pistols, immortal\\ntechnique, al green, dead kennedy's, the beatles, cat stevens, nine\\ninch nails, the dead, bob dylan etc. \\nmy taste is varied, i love music. \\n \\nand i love movie's, i like all kinds. \\nthese days i'm at netflix more often though. \\nand i never miss science friday's.\"]\n"
     ]
    }
   ],
   "source": [
    "print(essay4[0:10])"
   ]
  }
 ],
 "metadata": {
  "kernelspec": {
   "display_name": "Python 3",
   "language": "python",
   "name": "python3"
  },
  "language_info": {
   "codemirror_mode": {
    "name": "ipython",
    "version": 3
   },
   "file_extension": ".py",
   "mimetype": "text/x-python",
   "name": "python",
   "nbconvert_exporter": "python",
   "pygments_lexer": "ipython3",
   "version": "3.7.3"
  }
 },
 "nbformat": 4,
 "nbformat_minor": 4
}
