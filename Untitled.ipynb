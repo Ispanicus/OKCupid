{
 "cells": [
  {
   "cell_type": "code",
   "execution_count": 1,
   "metadata": {},
   "outputs": [],
   "source": [
    "import nltk\n",
    "import pandas as pd\n",
    "import io\n",
    "import re\n",
    "from string import punctuation\n",
    "#nltk.download('punkt')"
   ]
  },
  {
   "cell_type": "code",
   "execution_count": 48,
   "metadata": {},
   "outputs": [],
   "source": [
    "data = pd.read_csv('cleandata2.csv')"
   ]
  },
  {
   "cell_type": "code",
   "execution_count": 7,
   "metadata": {},
   "outputs": [
    {
     "name": "stdout",
     "output_type": "stream",
     "text": [
      "['22,a little extra,strictly anything,socially,never,working on college/university,\"about me:  i would love to think that i was some some kind of intellectual: either the dumbest smart guy, or the smartest dumb guy.', \"can't say i can tell the difference.\", 'i love to talk about ideas and concepts.', 'i forge odd metaphors instead of reciting cliches.', \"like the simularities between a friend of mine's house and an underwater salt mine.\", 'my favorite word is salt by the way (weird choice i know).', 'to me most things in life are better as metaphors.', 'i seek to make myself a little better everyday, in some productively lazy way.', 'got tired of tying my shoes.', 'considered hiring a five year old, but would probably have to tie both of our shoes... decided to only wear leather shoes dress shoes.', 'about you:  you love to have really serious, really deep conversations about really silly stuff.', 'you have to be willing to snap me out of a light hearted rant with a kiss.', \"you don't have to be funny, but you have to be able to make me laugh.\", 'you should be able to bend spoons with your mind, and telepathically make me smile while i am still at work.', 'you should love life, and be cool with just letting the wind blow.', 'extra points for reading all this and guessing my favorite video game (no hints given yet).', 'and lastly you have a good attention span.', '\",\"books: absurdistan, the republic, of mice and men (only book that made me want to cry), catcher in the rye, the prince.', 'movies: gladiator, operation valkyrie, the producers, down periscope.', \"shows: the borgia, arrested development, game of thrones, monty python  music: aesop rock, hail mary mallon, george thorogood and the delaware destroyers, felt  food: i'm down for anything.\", '\",duality and humorous things,trying to find someone to hang out with.', 'i am down for anything except a club.,i am new to california and looking for someone to wisper my secrets to.,\"asian, white\",75,-1,transportation,2012-06-28-20-30,\"south san francisco, california\",\"doesnt have kids, but might want them\",straight,likes dogs and likes cats,agnosticism and very serious about it,m,gemini,sometimes,english,single', '35,average,mostly other,often,sometimes,working on space camp,i am a chef: this is what that means.', '1. i am a workaholic.', '2. i love to cook regardless of whether i am at work.', '3. i love to drink and eat foods that are probably really bad for me.', '4. i love being around people that resemble line 1-3. i love the outdoors and i am an avid skier.', 'if its snowing i will be in tahoe at the very least.', 'i am a very confident and friendly.', \"i'm not interested in acting or being a typical guy.\", 'i have no time or patience for rediculous acts of territorial pissing.', 'overall i am a very likable easygoing individual.', 'i am very adventurous and always looking forward to doing new things and hopefully sharing it with the right person.,i am die hard christopher moore fan.', \"i don't really watch a lot of tv unless there is humor involved.\", \"i am kind of stuck on 90's alternative music.\", 'i am pretty much a fan of everything though... i do need to draw a line at most types of electronica.,,,i am very open and will share just about anything.,white,70,80000,hospitality / travel,2012-06-29-21-41,\"oakland, california\",\"doesnt have kids, but might want them\",straight,likes dogs and likes cats,agnosticism but not too serious about it,m,cancer,no,\"english (fluently), spanish (poorly), french (poorly)\",single', '38,thin,anything,socially,,graduated from masters program,\"i\\'m not ashamed of much, but writing public text on an online dating site makes me pleasantly uncomfortable.', \"i'll try to be as earnest as possible in the noble endeavor of standing naked before the world.\", \"i've lived in san francisco for 15 years, and both love it and find myself frustrated with its deficits.\", \"lots of great friends and acquaintances (which increases my apprehension to put anything on this site), but i'm feeling like meeting some new people that aren't just friends of friends.\", \"it's okay if you are a friend of a friend too.\", 'chances are, if you make it through the complex filtering process of multiple choice questions, lifestyle statistics, photo scanning, and these indulgent blurbs of text without moving quickly on to another search result, you are probably already a cultural peer and at most 2 people removed.', 'at first, i thought i should say as little as possible here to avoid you, but that seems silly.', \"as far as culture goes, i'm definitely more on the weird side of the spectrum, but i don't exactly wear it on my sleeve.\", \"once you get me talking, it will probably become increasingly apparent that while i'd like to think of myself as just like everybody else (and by some definition i certainly am), most people don't see me that way.\", \"that's fine with me.\", 'most of the people i find myself gravitating towards are pretty weird themselves.', 'you probably are too.', '\",\"okay this is where the cultural matrix gets so specific, it\\'s like being in the crosshairs.', \"for what it's worth, i find myself reading more non-fiction than fiction.\", \"it's usually some kind of philosophy, art, or science text by silly authors such as ranciere, de certeau, bataille, baudrillard, butler, stein, arendt, nietzche, zizek, etc.\", \"i'll often throw in some weird new age or pop-psychology book in the mix as well.\", \"as for fiction, i enjoy what little i've read of eco, perec, wallace, bolao, dick, vonnegut, atwood, delilo, etc.\", 'when i was young, i was a rabid asimov reader.', 'directors i find myself drawn to are makavejev, kuchar, jodorowsky, herzog, hara, klein, waters, verhoeven, ackerman, hitchcock, lang, gorin, goddard, miike, ohbayashi, tarkovsky, sokurov, warhol, etc.', 'but i also like a good amount of \"\"trashy\"\" stuff.', 'too much to name.', \"i definitely enjoy the character development that happens in long form episodic television over the course of 10-100 episodes, which a 1-2hr movie usually can't compete with.\", 'some of my recent tv favorites are: breaking bad, the wire, dexter, true blood, the prisoner, lost, fringe.', \"a smattered sampling of the vast field of music i like and deejay: art ensemble, sun ra, evan parker, lil wayne, dj funk, mr. fingers, maurizio, rob hood, dan bell, james blake, nonesuch recordings, omar souleyman, ethiopiques, fela kuti, john cage, meredith monk, robert ashley, terry riley, yoko ono, merzbow, tom tom club, jit, juke, bounce, hyphy, snap, crunk, b'more, kuduro, pop, noise, jazz, techno, house, acid, new/no wave, (post)punk, etc.\", 'a few of the famous art/dance/theater folk that might locate my sensibility: andy warhol, bruce nauman, yayoi kusama, louise bourgeois, tino sehgal, george kuchar, michel duchamp, marina abramovic, gelatin, carolee schneeman, gustav metzger, mike kelly, mike smith, andrea fraser, gordon matta-clark, jerzy grotowski, samuel beckett, antonin artaud, tadeusz kantor, anna halperin, merce cunningham, etc.', \"i'm clearly leaving out a younger generation of contemporary artists, many of whom are friends.\", 'local food regulars: sushi zone, chow, ppq, pagolac, lers ros, burma superstar, minako, shalimar, delfina pizza, rosamunde, arinells, suppenkuche, cha-ya, blue plate, golden era, etc.\",,viewing.', 'listening.', 'dancing.', 'talking.', 'drinking.', 'performing.,\"when i was five years old, i was known as \"\"the boogerman\"\".', '\",,68,-1,,2012-06-27-09-10,\"san francisco, california\",,straight,has cats,,m,pisces but it doesnt matter,no,\"english, french, c++\",available']\n"
     ]
    }
   ],
   "source": [
    "sentences = []\n",
    "with open(\"cleandata2.csv\") as file:\n",
    "    for line in file.readlines()[1:4]:\n",
    "        sentences.extend(nltk.sent_tokenize(line))\n",
    "print(sentences)"
   ]
  },
  {
   "cell_type": "code",
   "execution_count": 49,
   "metadata": {},
   "outputs": [],
   "source": [
    "data.replace(to_replace=r'<.*>', value=' ', regex=True, inplace=True)\n",
    "data.replace(to_replace=r'\\n', value=\" \", regex=True, inplace=True)\n",
    "data[data.columns.difference(['last_online'])].replace(to_replace=r'\\d+', value='', regex=True, inplace=True)\n",
    "data.replace(to_replace=r'&rsquo;', value=\"'\", regex=True, inplace=True)"
   ]
  },
  {
   "cell_type": "code",
   "execution_count": 50,
   "metadata": {},
   "outputs": [
    {
     "name": "stdout",
     "output_type": "stream",
     "text": [
      "<class 'list'>\n",
      "books: \n",
      "absurdistan, the republic, of mice and men (only book that made me\n",
      "want to cry), catcher in the rye, the prince. \n",
      " \n",
      "movies: \n",
      "gladiator, operation valkyrie, the producers, down periscope. \n",
      " \n",
      "shows: \n",
      "the borgia, arrested development, game of thrones, monty\n",
      "python \n",
      " \n",
      "music: \n",
      "aesop rock, hail mary mallon, george thorogood and the delaware\n",
      "destroyers, felt \n",
      " \n",
      "food: \n",
      "i'm down for anything.\n"
     ]
    }
   ],
   "source": [
    "essay4 = [essay for essay in data[\"essay4\"]]\n",
    "\n",
    "for essay in essay4:\n",
    "    if type(essay) != float:\n",
    "        essay = nltk.sent_tokenize(essay)\n",
    "    \n",
    "print(essay4[0])"
   ]
  },
  {
   "cell_type": "code",
   "execution_count": 53,
   "metadata": {},
   "outputs": [
    {
     "name": "stdout",
     "output_type": "stream",
     "text": [
      "[\"books: \\nabsurdistan, the republic, of mice and men (only book that made me\\nwant to cry), catcher in the rye, the prince. \\n \\nmovies: \\ngladiator, operation valkyrie, the producers, down periscope. \\n \\nshows: \\nthe borgia, arrested development, game of thrones, monty\\npython \\n \\nmusic: \\naesop rock, hail mary mallon, george thorogood and the delaware\\ndestroyers, felt \\n \\nfood: \\ni'm down for anything.\", \"i am die hard christopher moore fan. i don't really watch a lot of\\ntv unless there is humor involved. i am kind of stuck on 90's\\nalternative music. i am pretty much a fan of everything though... i\\ndo need to draw a line at most types of electronica.\", 'okay this is where the cultural matrix gets so specific, it\\'s like\\nbeing in the crosshairs. \\n \\nfor what it\\'s worth, i find myself reading more non-fiction than\\nfiction. it\\'s usually some kind of philosophy, art, or science text\\nby silly authors such as ranciere, de certeau, bataille,\\nbaudrillard, butler, stein, arendt, nietzche, zizek, etc. i\\'ll\\noften throw in some weird new age or pop-psychology book in the mix\\nas well. as for fiction, i enjoy what little i\\'ve read of eco,\\nperec, wallace, bolao, dick, vonnegut, atwood, delilo, etc. when i\\nwas young, i was a rabid asimov reader. \\n \\ndirectors i find myself drawn to are makavejev, kuchar, jodorowsky,\\nherzog, hara, klein, waters, verhoeven, ackerman, hitchcock, lang,\\ngorin, goddard, miike, ohbayashi, tarkovsky, sokurov, warhol, etc.\\nbut i also like a good amount of \"trashy\" stuff. too much to\\nname. \\n \\ni definitely enjoy the character development that happens in long\\nform episodic television over the course of 10-100 episodes, which\\na 1-2hr movie usually can\\'t compete with. some of my recent tv\\nfavorites are: breaking bad, the wire, dexter, true blood, the\\nprisoner, lost, fringe. \\n \\na smattered sampling of the vast field of music i like and deejay:\\nart ensemble, sun ra, evan parker, lil wayne, dj funk, mr. fingers,\\nmaurizio, rob hood, dan bell, james blake, nonesuch recordings,\\nomar souleyman, ethiopiques, fela kuti, john cage, meredith monk,\\nrobert ashley, terry riley, yoko ono, merzbow, tom tom club, jit,\\njuke, bounce, hyphy, snap, crunk, b\\'more, kuduro, pop, noise, jazz,\\ntechno, house, acid, new/no wave, (post)punk, etc. \\n \\na few of the famous art/dance/theater folk that might locate my\\nsensibility: andy warhol, bruce nauman, yayoi kusama, louise\\nbourgeois, tino sehgal, george kuchar, michel duchamp, marina\\nabramovic, gelatin, carolee schneeman, gustav metzger, mike kelly,\\nmike smith, andrea fraser, gordon matta-clark, jerzy grotowski,\\nsamuel beckett, antonin artaud, tadeusz kantor, anna halperin,\\nmerce cunningham, etc. i\\'m clearly leaving out a younger generation\\nof contemporary artists, many of whom are friends. \\n \\nlocal food regulars: sushi zone, chow, ppq, pagolac, lers ros,\\nburma superstar, minako, shalimar, delfina pizza, rosamunde,\\narinells, suppenkuche, cha-ya, blue plate, golden era, etc.', 'bataille, celine, beckett. . . \\nlynch, jarmusch, r.w. fassbender. . . \\ntwin peaks &amp; fishing w/ john \\njoy division, throbbing gristle, cabaret voltaire. . . \\nvegetarian pho and coffee', 'music: bands, rappers, musicians \\nat the moment: thee oh sees. \\nforever: wu-tang \\nbooks: artbooks for days \\naudiobooks: my collection, thick (thanks audible) \\nshows: live ones \\nfood: with stellar friends whenever \\nmovies &gt; tv \\npodcast: radiolab, this american life, the moth, joe rogan, the\\nchamps', 'books: to kill a mockingbird, lord of the rings, 1984, the farseer\\ntrilogy. \\n \\nmusic: the beatles, frank sinatra, john mayer, jason mraz,\\ndeadmau5, andrew bayer, everything on anjunadeep records, bach,\\nsatie. \\n \\ntv shows: how i met your mother, scrubs, the west wing, breaking\\nbad. \\n \\nmovies: star wars, the godfather pt ii, 500 days of summer,\\nnapoleon dynamite, american beauty, lotr \\n \\nfood: thai, vietnamese, shanghai dumplings, pizza!', \"i like books. ones with pictures. reading them is great too. where\\ndo people find the time? i spend more time with other people not\\nreading. i collect books. they sit neatly on my bookshelves. \\n \\nmovies are great. especially on movie night. with brownies. \\n \\nmusic. i love (love) it all. unless it's country. \\n \\ni love food.\", 'i like: alphabetized lists, aquariums, autobiographies, beer on\\ntap, ben folds, biking, brunch, citrus, cocktails, color, comfort\\nfood, craft projects, dancing, design, diy, essays, fabric stores,\\nfield trips, flea markets, foreign films, glee, good, hammond\\norgans, helping lost tourists, indie rock, ice cream, languages,\\nlectures, letterpress, libraries, literary fiction, live shows, mad\\nmen, martha stewart living, memoir, mix tapes, non-fiction, npr,\\nplants, puns, sewing, short stories, siestas, singer-songwriters,\\nspicy food, stationery, storytelling, sufjan stevens, talking to\\nstrangers, tea, tegan and sara, the office, 30 rock, travel,\\nquilts, quirky movies, wes anderson, wine, writing, yoga.', 'i am always willing to try new foods and am not too picky. i do\\nhowever have an extremely low tolerance to spicy food, i\\'m working\\non it tho... i\\'ve already conquered pouring chipotle hot sauce all\\nover my burritos. guess i still have a long ways to go. one of my\\nfavorite spots in marin is sol food-- simply delicious puerto rican\\nfood. \\n \\nlove to laugh so i like to watch a fair amount of comedies-\\nromantic, dark or otherwise. princess bride, pixar!, fear and\\nloathing, caddyshack, thomas crown affair, the birdcage (\"chewing\\ngum helps me think\"... \"sweetie, you\\'re wasting your gum!\"), the\\nbig lebowski, star wars (don\\'t judge) \\n \\ni like historical fiction, murder mysteries, fantasy,\\nutopian/dystopia, and, uh, the occasional romance book. just\\nstarted the historian and trying to decide whether or not to read\\nthe hunger games... already saw battle royale and it was pretty\\ncool, so i\\'d imagine that collin\\'s version she ripped off has got\\nto be fun to read. \\n \\ncan\\'t get enough music. like it, love it, want some more of it.\\nlove to dance to it and to many peoples dismay, sing to it. pretty\\nopen to any kind, even country.\\nhttp://www.youtube.com/watch?v=dghbozbsv18&amp;feature=bfa&amp;list=pl01a90d209abe1ed3&amp;lf=plpp_video', \"i like some tv. i love summer heights high and angry boys. and i\\nlove fringe. \\n \\ni'm reading stiff after finishing elliott smith and the big nothing\\n(loved it). i like biographies. \\n \\ni love music. it would be impossible to list everything i like\\nbecause the list grows exponentially. i like george harrison or the\\nclash. i like flight of the conchord's, old radiohead and elliott\\nsmith. djali zwan, x, the knitters, the kinks, john lennon, floyd,\\nnina simone, the smiths, seu jorge, the sex pistols, immortal\\ntechnique, al green, dead kennedy's, the beatles, cat stevens, nine\\ninch nails, the dead, bob dylan etc. \\nmy taste is varied, i love music. \\n \\nand i love movie's, i like all kinds. \\nthese days i'm at netflix more often though. \\nand i never miss science friday's.\"]\n"
     ]
    }
   ],
   "source": [
    "print(essay4[0:10])"
   ]
  }
 ],
 "metadata": {
  "kernelspec": {
   "display_name": "Python 3",
   "language": "python",
   "name": "python3"
  },
  "language_info": {
   "codemirror_mode": {
    "name": "ipython",
    "version": 3
   },
   "file_extension": ".py",
   "mimetype": "text/x-python",
   "name": "python",
   "nbconvert_exporter": "python",
   "pygments_lexer": "ipython3",
   "version": "3.7.3"
  }
 },
 "nbformat": 4,
 "nbformat_minor": 4
}
